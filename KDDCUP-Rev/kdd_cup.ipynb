{
 "cells": [
  {
   "cell_type": "code",
   "execution_count": 1,
   "metadata": {},
   "outputs": [],
   "source": [
    "import numpy as np \n",
    "import pandas as pd\n",
    "from sklearn.neighbors.kde import KernelDensity\n",
    "from sklearn.metrics import precision_recall_fscore_support as prf, accuracy_score\n",
    "import torch\n",
    "from torch.utils.data import Dataset\n",
    "from torch.utils.data import DataLoader\n",
    "import torch.nn as nn"
   ]
  },
  {
   "cell_type": "code",
   "execution_count": 2,
   "metadata": {},
   "outputs": [],
   "source": [
    "data = pd.read_csv(\"kddcup.data_10_percent_corrected\", header=None,names=['duration', 'protocol_type', 'service', 'flag', 'src_bytes', 'dst_bytes', 'land', 'wrong_fragment', 'urgent', 'hot', 'num_failed_logins', 'logged_in', 'num_compromised', 'root_shell', 'su_attempted', 'num_root', 'num_file_creations', 'num_shells', 'num_access_files', 'num_outbound_cmds', 'is_host_login', 'is_guest_login', 'count', 'srv_count', 'serror_rate', 'srv_serror_rate', 'rerror_rate', 'srv_rerror_rate', 'same_srv_rate', 'diff_srv_rate', 'srv_diff_host_rate', 'dst_host_count', 'dst_host_srv_count', 'dst_host_same_srv_rate', 'dst_host_diff_srv_rate', 'dst_host_same_src_port_rate', 'dst_host_srv_diff_host_rate', 'dst_host_serror_rate', 'dst_host_srv_serror_rate', 'dst_host_rerror_rate', 'dst_host_srv_rerror_rate', 'type'])"
   ]
  },
  {
   "cell_type": "code",
   "execution_count": 3,
   "metadata": {},
   "outputs": [
    {
     "name": "stdout",
     "output_type": "stream",
     "text": [
      "smurf.              280790\n",
      "neptune.            107201\n",
      "normal.              97278\n",
      "back.                 2203\n",
      "satan.                1589\n",
      "ipsweep.              1247\n",
      "portsweep.            1040\n",
      "warezclient.          1020\n",
      "teardrop.              979\n",
      "pod.                   264\n",
      "nmap.                  231\n",
      "guess_passwd.           53\n",
      "buffer_overflow.        30\n",
      "land.                   21\n",
      "warezmaster.            20\n",
      "imap.                   12\n",
      "rootkit.                10\n",
      "loadmodule.              9\n",
      "ftp_write.               8\n",
      "multihop.                7\n",
      "phf.                     4\n",
      "perl.                    3\n",
      "spy.                     2\n",
      "Name: type, dtype: int64\n"
     ]
    }
   ],
   "source": [
    "proportions = data[\"type\"].value_counts()\n",
    "print(proportions)"
   ]
  },
  {
   "cell_type": "code",
   "execution_count": 4,
   "metadata": {},
   "outputs": [],
   "source": [
    "data.loc[data[\"type\"] == \"normal.\", 'type'] = 0\n",
    "data.loc[data[\"type\"] == \"guess_passwd.\", 'type'] = 1\n",
    "data.loc[data[\"type\"] == \"smurf.\", 'type'] = 1\n",
    "data.loc[data[\"type\"] == \"neptune.\", 'type'] = 1\n",
    "data.loc[data[\"type\"] == \"back.\", 'type'] = 1\n",
    "data.loc[data[\"type\"] == \"satan.\", 'type'] = 1\n",
    "data.loc[data[\"type\"] == \"ipsweep.\", 'type'] = 1\n",
    "data.loc[data[\"type\"] == \"portsweep.\", 'type'] = 1\n",
    "data.loc[data[\"type\"] == \"warezclient.\", 'type'] = 1\n",
    "data.loc[data[\"type\"] == \"teardrop.\", 'type'] = 1\n",
    "data.loc[data[\"type\"] == \"pod.\", 'type'] = 1\n",
    "data.loc[data[\"type\"] == \"nmap.\", 'type'] = 1\n",
    "data.loc[data[\"type\"] == \"buffer_overflow.\", 'type'] = 1\n",
    "data.loc[data[\"type\"] == \"land.\", 'type'] = 1\n",
    "data.loc[data[\"type\"] == \"neptune.\", 'type'] = 1\n",
    "data.loc[data[\"type\"] == \"warezmaster.\", 'type'] = 1\n",
    "data.loc[data[\"type\"] == \"imap.\", 'type'] = 1\n",
    "data.loc[data[\"type\"] == \"rootkit.\", 'type'] = 1\n",
    "data.loc[data[\"type\"] == \"loadmodule.\", 'type'] = 1\n",
    "data.loc[data[\"type\"] == \"ftp_write.\", 'type'] = 1\n",
    "data.loc[data[\"type\"] == \"multihop.\", 'type'] = 1\n",
    "data.loc[data[\"type\"] == \"phf.\", 'type'] = 1\n",
    "data.loc[data[\"type\"] == \"perl.\", 'type'] = 1\n",
    "data.loc[data[\"type\"] == \"spy.\", 'type'] = 1"
   ]
  },
  {
   "cell_type": "code",
   "execution_count": 5,
   "metadata": {},
   "outputs": [
    {
     "name": "stdout",
     "output_type": "stream",
     "text": [
      "1    396743\n",
      "0     97278\n",
      "Name: type, dtype: int64\n"
     ]
    }
   ],
   "source": [
    "proportions = data[\"type\"].value_counts()\n",
    "print(proportions)"
   ]
  },
  {
   "cell_type": "code",
   "execution_count": 6,
   "metadata": {},
   "outputs": [],
   "source": [
    "one_hot_protocol = pd.get_dummies(data[\"protocol_type\"])\n",
    "one_hot_service = pd.get_dummies(data[\"service\"])\n",
    "one_hot_flag = pd.get_dummies(data[\"flag\"])\n",
    "\n",
    "data = data.drop(\"protocol_type\",axis=1)\n",
    "data = data.drop(\"service\",axis=1)\n",
    "data = data.drop(\"flag\",axis=1)\n",
    "    \n",
    "data = pd.concat([one_hot_protocol, one_hot_service,one_hot_flag, data],axis=1)"
   ]
  },
  {
   "cell_type": "code",
   "execution_count": 7,
   "metadata": {},
   "outputs": [],
   "source": [
    "cols_to_norm = [\"duration\", \"src_bytes\", \"dst_bytes\", \"wrong_fragment\", \"urgent\", \n",
    "            \"hot\", \"num_failed_logins\", \"num_compromised\", \"num_root\", \n",
    "            \"num_file_creations\", \"num_shells\", \"num_access_files\", \"count\", \"srv_count\", \n",
    "            \"serror_rate\", \"srv_serror_rate\", \"rerror_rate\", \"srv_rerror_rate\", \"same_srv_rate\", \n",
    "            \"diff_srv_rate\", \"srv_diff_host_rate\", \"dst_host_count\", \"dst_host_srv_count\", \"dst_host_same_srv_rate\", \n",
    "            \"dst_host_diff_srv_rate\", \"dst_host_same_src_port_rate\", \"dst_host_srv_diff_host_rate\", \n",
    "            \"dst_host_serror_rate\", \"dst_host_srv_serror_rate\", \"dst_host_rerror_rate\", \"dst_host_srv_rerror_rate\" ]\n",
    "\n",
    "# data.loc[:, cols_to_norm] = (data[cols_to_norm] - data[cols_to_norm].mean()) / data[cols_to_norm].std()\n",
    "min_cols = data.loc[data[\"type\"]==1 , cols_to_norm].min()\n",
    "max_cols = data.loc[data[\"type\"]==1 , cols_to_norm].max()\n",
    "\n",
    "data.loc[:, cols_to_norm] = (data[cols_to_norm] - min_cols) / (max_cols - min_cols)"
   ]
  },
  {
   "cell_type": "code",
   "execution_count": 8,
   "metadata": {},
   "outputs": [
    {
     "name": "stderr",
     "output_type": "stream",
     "text": [
      "C:\\ProgramData\\Anaconda2\\envs\\python35\\lib\\site-packages\\ipykernel_launcher.py:1: FutureWarning: Method .as_matrix will be removed in a future version. Use .values instead.\n",
      "  \"\"\"Entry point for launching an IPython kernel.\n"
     ]
    }
   ],
   "source": [
    "np.savez_compressed(\"kdd_cup\",kdd=data.as_matrix())"
   ]
  },
  {
   "cell_type": "code",
   "execution_count": null,
   "metadata": {},
   "outputs": [],
   "source": []
  },
  {
   "cell_type": "code",
   "execution_count": null,
   "metadata": {},
   "outputs": [],
   "source": []
  }
 ],
 "metadata": {
  "kernelspec": {
   "display_name": "Python 3",
   "language": "python",
   "name": "python3"
  },
  "language_info": {
   "codemirror_mode": {
    "name": "ipython",
    "version": 3
   },
   "file_extension": ".py",
   "mimetype": "text/x-python",
   "name": "python",
   "nbconvert_exporter": "python",
   "pygments_lexer": "ipython3",
   "version": "3.7.3"
  }
 },
 "nbformat": 4,
 "nbformat_minor": 2
}
