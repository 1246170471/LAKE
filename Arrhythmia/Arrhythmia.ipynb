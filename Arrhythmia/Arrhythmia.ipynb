{
 "cells": [
  {
   "cell_type": "code",
   "execution_count": 1,
   "metadata": {},
   "outputs": [],
   "source": [
    "import logging\n",
    "import numpy as np\n",
    "import pandas as pd \n",
    "import scipy.io\n",
    "from sklearn import preprocessing\n",
    "from sklearn.model_selection import train_test_split\n",
    "from sklearn.preprocessing import MinMaxScaler"
   ]
  },
  {
   "cell_type": "code",
   "execution_count": 2,
   "metadata": {},
   "outputs": [],
   "source": [
    "data = scipy.io.loadmat(\"arrhythmia.mat\")"
   ]
  },
  {
   "cell_type": "code",
   "execution_count": 3,
   "metadata": {},
   "outputs": [],
   "source": [
    "features = data[\"X\"]\n",
    "labels = data['y']"
   ]
  },
  {
   "cell_type": "code",
   "execution_count": 4,
   "metadata": {},
   "outputs": [
    {
     "name": "stdout",
     "output_type": "stream",
     "text": [
      "[[ 75.    0.  190.  ...   2.9  23.3  49.4]\n",
      " [ 56.    1.  165.  ...   2.1  20.4  38.8]\n",
      " [ 54.    0.  172.  ...   3.4  12.3  49. ]\n",
      " ...\n",
      " [ 36.    0.  166.  ...   1.  -44.2 -33.2]\n",
      " [ 32.    1.  155.  ...   2.4  25.   46.6]\n",
      " [ 78.    1.  160.  ...   1.6  21.3  32.8]]\n"
     ]
    }
   ],
   "source": [
    "print(features)"
   ]
  },
  {
   "cell_type": "code",
   "execution_count": 5,
   "metadata": {},
   "outputs": [],
   "source": [
    "scaler = MinMaxScaler()\n",
    "scaler.fit(features)\n",
    "features =  scaler.transform(features)"
   ]
  },
  {
   "cell_type": "code",
   "execution_count": 6,
   "metadata": {},
   "outputs": [
    {
     "name": "stdout",
     "output_type": "stream",
     "text": [
      "[[0.90361446 0.         0.12592593 ... 0.74166667 0.5075188  0.56957929]\n",
      " [0.6746988  1.         0.08888889 ... 0.675      0.48571429 0.50097087]\n",
      " [0.65060241 0.         0.09925926 ... 0.78333333 0.42481203 0.56699029]\n",
      " ...\n",
      " [0.43373494 0.         0.09037037 ... 0.58333333 0.         0.03495146]\n",
      " [0.38554217 1.         0.07407407 ... 0.7        0.52030075 0.55145631]\n",
      " [0.93975904 1.         0.08148148 ... 0.63333333 0.4924812  0.46213592]]\n"
     ]
    }
   ],
   "source": [
    "print (features)"
   ]
  },
  {
   "cell_type": "code",
   "execution_count": 7,
   "metadata": {},
   "outputs": [
    {
     "name": "stdout",
     "output_type": "stream",
     "text": [
      "[386]\n",
      "[66]\n"
     ]
    }
   ],
   "source": [
    "print (sum(labels==0))\n",
    "print (sum(labels==1))"
   ]
  },
  {
   "cell_type": "code",
   "execution_count": 8,
   "metadata": {},
   "outputs": [],
   "source": [
    "data = np.concatenate((features, labels),axis=1)"
   ]
  },
  {
   "cell_type": "code",
   "execution_count": 9,
   "metadata": {},
   "outputs": [],
   "source": [
    "np.save('Arrhythmia',data)"
   ]
  },
  {
   "cell_type": "code",
   "execution_count": null,
   "metadata": {},
   "outputs": [],
   "source": []
  }
 ],
 "metadata": {
  "kernelspec": {
   "display_name": "Python 3",
   "language": "python",
   "name": "python3"
  },
  "language_info": {
   "codemirror_mode": {
    "name": "ipython",
    "version": 3
   },
   "file_extension": ".py",
   "mimetype": "text/x-python",
   "name": "python",
   "nbconvert_exporter": "python",
   "pygments_lexer": "ipython3",
   "version": "3.6.8"
  }
 },
 "nbformat": 4,
 "nbformat_minor": 2
}
